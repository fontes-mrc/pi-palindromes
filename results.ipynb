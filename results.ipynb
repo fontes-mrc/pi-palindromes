{
 "cells": [
  {
   "cell_type": "markdown",
   "metadata": {},
   "source": [
    "# Get Palindromic Primes"
   ]
  },
  {
   "cell_type": "code",
   "execution_count": 1,
   "metadata": {},
   "outputs": [],
   "source": [
    "from time import time\n",
    "from json import dumps\n",
    "from os import rename\n",
    "from numpy import array\n",
    "from src import get_palindromes, file_chunks, isprime\n",
    "\n",
    "from numba.core.errors import NumbaDeprecationWarning, NumbaPendingDeprecationWarning\n",
    "import warnings\n",
    "\n",
    "warnings.simplefilter('ignore', category=NumbaDeprecationWarning)\n",
    "warnings.simplefilter('ignore', category=NumbaPendingDeprecationWarning)\n",
    "\n",
    "CHUNKSIZE = 500_000_000\n",
    "OFFSET = 2\n",
    "MIN_ODD_LEN = 9\n",
    "STRETCH_MODE = True\n",
    "\n",
    "INPUT_FILE = 'pi_100b.txt'\n",
    "TEMP_FILE = f'_temp{str(time()).replace(\".\",\"\")}.json'\n",
    "OUTPUT_FILE = 'results.json'"
   ]
  },
  {
   "cell_type": "code",
   "execution_count": 2,
   "metadata": {},
   "outputs": [],
   "source": [
    "def run_it():\n",
    "    n_iterations = 0\n",
    "    n_palindromes = 0\n",
    "    n_primes = 0\n",
    "    for idx, size, chunk in file_chunks(INPUT_FILE,CHUNKSIZE, OFFSET, MIN_ODD_LEN):\n",
    "        odd_idx, odd_pld = get_palindromes(chunk, MIN_ODD_LEN, STRETCH_MODE)\n",
    "        odd_primes  = [isprime(int(p)) for p in odd_pld]\n",
    "\n",
    "        results  = [{'index':i+idx, 'palindrome': p, 'length': len(p), 'type':'odd' , 'prime': b} for i, p, b in zip(odd_idx, odd_pld, odd_primes)]\n",
    "\n",
    "        with open(TEMP_FILE, 'a') as outF:\n",
    "            for r in results:\n",
    "                if r['prime']:\n",
    "                    outF.write(dumps(r) + '\\n')\n",
    "\n",
    "        n_iterations += 1\n",
    "        n_palindromes += len(odd_pld)\n",
    "        n_primes += len([p for p in odd_primes if p])\n",
    "\n",
    "        progress = (idx + CHUNKSIZE) / size\n",
    "        if progress > 1: progress = 1\n",
    "        print(\"\\r({:6.2%}) {:.1E}/{:.1E} File: ...{} | Palindromes: {:5,d} | Primes: {:5,d}\".format(\n",
    "            progress,\n",
    "            idx + CHUNKSIZE,\n",
    "            size,\n",
    "            INPUT_FILE[-20:],\n",
    "            n_palindromes,\n",
    "            n_primes,\n",
    "        ), end='')\n",
    "\n",
    "    rename(TEMP_FILE, OUTPUT_FILE)"
   ]
  },
  {
   "cell_type": "code",
   "execution_count": 3,
   "metadata": {},
   "outputs": [
    {
     "name": "stdout",
     "output_type": "stream",
     "text": [
      "(100.00%) 1.0E+11/1.0E+11 File: ...pi_100b.txt | Palindromes: 11,108,665 | Primes: 562,123"
     ]
    }
   ],
   "source": [
    "run_it()"
   ]
  },
  {
   "cell_type": "markdown",
   "metadata": {},
   "source": [
    "# Calculate Results"
   ]
  },
  {
   "cell_type": "code",
   "execution_count": 4,
   "metadata": {},
   "outputs": [],
   "source": [
    "from json import loads\n",
    "\n",
    "first = []\n",
    "counts = {}\n",
    "actual_length = 0\n",
    "largest_value = 0\n",
    "largest_index = 0\n",
    "with open('results.json', 'r') as f:\n",
    "    for line in f:\n",
    "        line = loads(line)\n",
    "        counts[line['length']] = counts.get(line['length'], 0) + 1\n",
    "\n",
    "        if line['length'] > actual_length:\n",
    "            actual_length = line['length']\n",
    "            first.append({'length': line['length'], 'index':line['index'], 'palindrome':line['palindrome']})\n",
    "            largest_value = int(line['palindrome'])\n",
    "            largest_index = line['index']\n",
    "        \n",
    "        elif line['length'] < actual_length and line['length'] not in [k['length'] for k in first]:\n",
    "            first.append({'length': line['length'], 'index':line['index'], 'palindrome':line['palindrome']})\n",
    "\n",
    "        elif line['length'] == actual_length:\n",
    "            v = int(line['palindrome'])\n",
    "            if v > largest_value:\n",
    "                largest_value = v\n",
    "                largest_index = line['index']"
   ]
  },
  {
   "cell_type": "code",
   "execution_count": 5,
   "metadata": {},
   "outputs": [
    {
     "data": {
      "text/plain": [
       "[{'length': 11, 'index': 5793498, 'palindrome': '74670707647'},\n",
       " {'length': 13, 'index': 25803984, 'palindrome': '1020776770201'},\n",
       " {'length': 15, 'index': 298503034, 'palindrome': '176860696068671'},\n",
       " {'length': 9, 'index': 129080, 'palindrome': '318272813'},\n",
       " {'length': 17, 'index': 6604858610, 'palindrome': '30948834143884903'},\n",
       " {'length': 19, 'index': 72075707768, 'palindrome': '7240428184818240427'}]"
      ]
     },
     "execution_count": 5,
     "metadata": {},
     "output_type": "execute_result"
    }
   ],
   "source": [
    "first"
   ]
  },
  {
   "cell_type": "code",
   "execution_count": 6,
   "metadata": {},
   "outputs": [
    {
     "data": {
      "text/plain": [
       "{11: 41828, 13: 3524, 15: 305, 9: 516435, 17: 29, 19: 2}"
      ]
     },
     "execution_count": 6,
     "metadata": {},
     "output_type": "execute_result"
    }
   ],
   "source": [
    "counts"
   ]
  },
  {
   "cell_type": "code",
   "execution_count": 7,
   "metadata": {},
   "outputs": [
    {
     "data": {
      "text/plain": [
       "(78833628391, 9125010550550105219)"
      ]
     },
     "execution_count": 7,
     "metadata": {},
     "output_type": "execute_result"
    }
   ],
   "source": [
    "largest_index, largest_value"
   ]
  }
 ],
 "metadata": {
  "kernelspec": {
   "display_name": "Python 3.10.6 64-bit (microsoft store)",
   "language": "python",
   "name": "python3"
  },
  "language_info": {
   "codemirror_mode": {
    "name": "ipython",
    "version": 3
   },
   "file_extension": ".py",
   "mimetype": "text/x-python",
   "name": "python",
   "nbconvert_exporter": "python",
   "pygments_lexer": "ipython3",
   "version": "3.10.9 (tags/v3.10.9:1dd9be6, Dec  6 2022, 20:01:21) [MSC v.1934 64 bit (AMD64)]"
  },
  "orig_nbformat": 4,
  "vscode": {
   "interpreter": {
    "hash": "b9439e2894c31cc78229ae56daf4857cfb5df06821fadd85e15934d871a557ef"
   }
  }
 },
 "nbformat": 4,
 "nbformat_minor": 2
}
